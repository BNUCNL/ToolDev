{
 "cells": [
  {
   "cell_type": "code",
   "execution_count": 1,
   "metadata": {},
   "outputs": [
    {
     "name": "stderr",
     "output_type": "stream",
     "text": [
      "/usr/local/neurosoft/anaconda3/lib/python3.8/site-packages/nilearn/glm/__init__.py:55: FutureWarning: The nilearn.glm module is experimental. It may change in any future release of Nilearn.\n",
      "  warn('The nilearn.glm module is experimental. '\n"
     ]
    }
   ],
   "source": [
    "import os\n",
    "import json\n",
    "import subprocess\n",
    "import numpy as np\n",
    "import pandas as pd\n",
    "import pickle as pkl\n",
    "import nibabel as nib\n",
    "import scipy.io as sio\n",
    "import matplotlib as mpl\n",
    "import matplotlib.pyplot as plt\n",
    "from sklearn.metrics import pairwise_distances\n",
    "from os.path import join as pjoin\n",
    "from mpl_toolkits.axes_grid1 import make_axes_locatable\n",
    "from sklearn.preprocessing import StandardScaler\n",
    "from sklearn.linear_model import LinearRegression, Ridge, Lasso\n",
    "from nilearn.glm.first_level import make_first_level_design_matrix\n",
    "\n",
    "mpl.rcParams['axes.linewidth'] = 2\n",
    "mpl.rcParams.update({'font.size': 12, 'font.family': 'STIXGeneral', 'mathtext.fontset': 'stix'})\n",
    "\n",
    "# generate surface map for tSNR\n",
    "def save_ciftifile(data, filename):\n",
    "    template = '/nfs/z1/zhenlab/BrainImageNet/NaturalObject/data/bold/Analysis_derivatives/ciftify/sub-core02/MNINonLinear/Results/ses-ImageNet01_task-object_run-1/ses-ImageNet01_task-object_run-1_Atlas.dtseries.nii'\n",
    "    ex_cii = nib.load(template)\n",
    "    ex_cii.header.get_index_map(0).number_of_series_points = 1\n",
    "    # check data shape\n",
    "    if data.shape[0] == 59412:\n",
    "        brain_map = np.zeros(91282)\n",
    "        brain_map[:59412] = data\n",
    "    else:\n",
    "        brain_map = data\n",
    "    brain_map = brain_map[np.newaxis, :]\n",
    "    nib.save(nib.Cifti2Image(brain_map.astype(np.float32), ex_cii.header), filename)\n",
    "\n",
    "# define path\n",
    "beta_path = '/nfs/z1/zhenlab/BrainImageNet/action/data/bold/derivatives/beta'\n",
    "fmriprep_path = '/nfs/z1/zhenlab/BrainImageNet/action/data/bold/derivatives/fmriprep'\n",
    "ciftify_path = '/nfs/z1/zhenlab/BrainImageNet/action/data/bold/derivatives/ciftify'\n",
    "nifti_path = '/nfs/z1/zhenlab/BrainImageNet/action/data/bold/nifti'\n",
    "result_path = '/nfs/z1/userhome/ZhouMing/workingdir/BIN/action/utils/HAD/result'"
   ]
  },
  {
   "cell_type": "code",
   "execution_count": 2,
   "metadata": {},
   "outputs": [
    {
     "name": "stdout",
     "output_type": "stream",
     "text": [
      "Finish sub-01\n",
      "Finish sub-02\n",
      "Finish sub-03\n",
      "Finish sub-04\n",
      "Finish sub-05\n",
      "Finish sub-06\n",
      "Finish sub-07\n",
      "Finish sub-08\n",
      "Finish sub-09\n",
      "Finish sub-10\n",
      "Finish sub-11\n",
      "Finish sub-12\n",
      "Finish sub-13\n",
      "Finish sub-14\n",
      "Finish sub-15\n",
      "Finish sub-16\n",
      "Finish sub-17\n",
      "Finish sub-18\n",
      "Finish sub-19\n",
      "Finish sub-20\n",
      "Finish sub-21\n",
      "Finish sub-22\n",
      "Finish sub-23\n",
      "Finish sub-24\n",
      "Finish sub-25\n",
      "Finish sub-26\n",
      "Finish sub-27\n",
      "Finish sub-28\n",
      "Finish sub-29\n",
      "Finish sub-30\n"
     ]
    }
   ],
   "source": [
    "from scipy.stats import pearsonr\n",
    "\n",
    "# Load beta for 30 subjects \n",
    "sub_names = sorted([i for i in os.listdir(beta_path) if i.startswith('sub')])\n",
    "mask_sum = ['EVC', 'VTC', 'LO', 'AIP']\n",
    "n_sub = len(sub_names)\n",
    "n_class = 180\n",
    "\n",
    "beta_sum = np.zeros((n_sub, n_class, 59412))\n",
    "for sub_idx, sub_name in enumerate(sub_names):\n",
    "    # define beta path\n",
    "    beta_sub_path = pjoin(beta_path, sub_name, f'{sub_name}_action-beta_clean.npy')\n",
    "    beta_sub = np.load(beta_sub_path)\n",
    "    scaler = StandardScaler()\n",
    "    beta_sum[sub_idx] = scaler.fit_transform(beta_sub)\n",
    "    print(f'Finish {sub_name}')\n",
    "\n",
    "# beta_sum = beta_sum.mean(axis=0)"
   ]
  },
  {
   "cell_type": "code",
   "execution_count": 3,
   "metadata": {},
   "outputs": [],
   "source": [
    "# load animacy labels\n",
    "beh_path = '/nfs/z1/userhome/ZhouMing/workingdir/BIN/utils/action_spaces/behavior'\n",
    "beh_df = pd.read_csv(pjoin(beh_path, 'dim_scores.csv'), index_col=0)\n",
    "beh_df['mean_score'] = beh_df.iloc[:, 2:].mean(axis=1)\n",
    "beh_df = beh_df.drop(beh_df.columns[2:22], axis=1)\n",
    "beh_df = beh_df.sort_values(by='class')\n",
    "beh_df = beh_df[(beh_df['dim']=='sociality') | (beh_df['dim']=='transitivity')]"
   ]
  },
  {
   "cell_type": "code",
   "execution_count": 6,
   "metadata": {},
   "outputs": [
    {
     "name": "stdout",
     "output_type": "stream",
     "text": [
      "PearsonRResult(statistic=-0.1582378033487074, pvalue=0.033873204359359595)\n"
     ]
    }
   ],
   "source": [
    "from scipy.stats import pearsonr\n",
    "\n",
    "soc_df = beh_df[(beh_df['dim']=='sociality')]\n",
    "tra_df = beh_df[(beh_df['dim']=='transitivity')]\n",
    "print(pearsonr(soc_df['mean_score'].to_numpy(), tra_df['mean_score'].to_numpy()))"
   ]
  },
  {
   "cell_type": "markdown",
   "metadata": {},
   "source": [
    "#### Show brain map of transitivity and sociality based on extremum categories from behavior score"
   ]
  },
  {
   "cell_type": "code",
   "execution_count": 5,
   "metadata": {},
   "outputs": [
    {
     "name": "stdout",
     "output_type": "stream",
     "text": [
      "sociality map threshold: left: -0.06; right: 0.12\n",
      "transitivity map threshold: left: -0.07; right: 0.09\n"
     ]
    },
    {
     "name": "stderr",
     "output_type": "stream",
     "text": [
      "<ipython-input-5-5937b2baa1cb>:9: SettingWithCopyWarning: \n",
      "A value is trying to be set on a copy of a slice from a DataFrame\n",
      "\n",
      "See the caveats in the documentation: https://pandas.pydata.org/pandas-docs/stable/user_guide/indexing.html#returning-a-view-versus-a-copy\n",
      "  dim_df.sort_values(by='mean_score', inplace=True)\n",
      "<ipython-input-5-5937b2baa1cb>:9: SettingWithCopyWarning: \n",
      "A value is trying to be set on a copy of a slice from a DataFrame\n",
      "\n",
      "See the caveats in the documentation: https://pandas.pydata.org/pandas-docs/stable/user_guide/indexing.html#returning-a-view-versus-a-copy\n",
      "  dim_df.sort_values(by='mean_score', inplace=True)\n"
     ]
    }
   ],
   "source": [
    "from scipy.stats import pearsonr\n",
    "n_check = 30\n",
    "dims = ['sociality', 'transitivity']\n",
    "action_selected = pd.DataFrame()\n",
    "map_path = pjoin(result_path, 'brain_map')\n",
    "brain_map_compare = np.zeros((2, 59412))\n",
    "\n",
    "for dim_idx, dim in enumerate(dims):\n",
    "    dim_df = beh_df.loc[(beh_df['dim']==dim), :]\n",
    "    dim_df.reset_index(drop=True, inplace=True)\n",
    "    dim_df.sort_values(by='mean_score', inplace=True)\n",
    "    # extract category info\n",
    "    low_category_name = dim_df.iloc[:n_check, 0].to_list()\n",
    "    low_category_idx = dim_df.index.to_list()[:n_check]\n",
    "    high_category_name = dim_df.iloc[-n_check:, 0].to_list()\n",
    "    high_category_idx = dim_df.index.to_list()[-n_check:]\n",
    "    # print(f'Category name in {dim}\\n'+ 'high:', high_category_name, '\\nlow:', low_category_name)\n",
    "    # save into dataframe\n",
    "    action_selected[f'{dim}_high'] = high_category_name\n",
    "    action_selected[f'{dim}_low'] = low_category_name\n",
    "    # compute brain map\n",
    "    brain_map = np.zeros((1, 91282))\n",
    "    brain_map[0, :59412] = beta_sum[high_category_idx].mean(axis=0) - beta_sum[low_category_idx].mean(axis=0)\n",
    "    brain_map_compare[dim_idx] = brain_map[0, :59412] \n",
    "    save_ciftifile(brain_map, pjoin(map_path, f'{dim}_map_extremum.dtseries.nii'))\n",
    "    print('%s map threshold: left: %.2f; right: %.2f'%(dim, brain_map.squeeze()[:59412].mean() - brain_map.squeeze()[:59412].std(),\n",
    "                                                       brain_map.squeeze()[:59412].mean() + brain_map.squeeze()[:59412].std()))\n",
    "\n",
    "# rename column names\n",
    "action_selected.columns = ['social', 'nonsocial', 'transitive', 'intransitive']\n",
    "action_selected.to_csv(pjoin(result_path, 'action_extremum_30.csv'), index=False)\n",
    "\n",
    "# compute correlation of two brain maps"
   ]
  },
  {
   "cell_type": "markdown",
   "metadata": {},
   "source": [
    "#### Show brain map of transitivity and sociality based on self defined contrast\n",
    "##### social actions from superordinate categories in “Socializing, Relaxing, and Leisure” and nonsocial actions from  “Personal Care”; transitive actions are from actions that orientates at a explicit object like ball sports and household activities, intransitive actions are from object-unrelated activities like dancing and jumping. \n"
   ]
  },
  {
   "cell_type": "code",
   "execution_count": 14,
   "metadata": {},
   "outputs": [
    {
     "name": "stdout",
     "output_type": "stream",
     "text": [
      "Finish transitive\n"
     ]
    }
   ],
   "source": [
    "from scipy import stats\n",
    "\n",
    "# define contrast\n",
    "action_selected = pd.read_csv(pjoin(result_path, 'action_self_defined.csv'))\n",
    "n_select = 6\n",
    "map_path = pjoin(result_path, 'brain_map')\n",
    "dims = ['sociality', 'transitivity']\n",
    "class_names = beh_df['class']\n",
    "class_names.drop_duplicates(inplace=True)\n",
    "class_names.reset_index(inplace=True, drop=True)\n",
    "p_threshold = 0.01\n",
    "baseline = beta_sum.mean(axis=(0,1))\n",
    "social_idx = [class_names[class_names==action_selected.iloc[x, 0]].index[0] for x in range(n_select)]\n",
    "nonsocial_idx = [class_names[class_names==action_selected.iloc[x, 1]].index[0] for x in range(n_select)]\n",
    "transitive_idx = [class_names[class_names==action_selected.iloc[x, 2]].index[0] for x in range(n_select)]\n",
    "intransitive_idx = [class_names[class_names==action_selected.iloc[x, 3]].index[0] for x in range(n_select)]\n",
    "\n",
    "# generate beta difference map\n",
    "social_contrast = beta_sum[:, social_idx, :].mean(axis=1) - beta_sum[:, nonsocial_idx, :].mean(axis=1)\n",
    "transitive_contrast = beta_sum[:, transitive_idx, :].mean(axis=1) - beta_sum[:, intransitive_idx, :].mean(axis=1)\n",
    "\n",
    "social_map = np.zeros((59412))\n",
    "transitive_map = np.zeros((59412))\n",
    "contrasts = ['transitive']\n",
    "# perform independent t-test in each voxel\n",
    "for contrast in contrasts:\n",
    "    # perform 1 sample test\n",
    "    stat_result = stats.ttest_1samp(eval(f'{contrast}_contrast'), popmean=0)\n",
    "    significant_loc = stat_result[1] < p_threshold\n",
    "    eval(f'{contrast}_map')[significant_loc] = stat_result[0][significant_loc]\n",
    "    save_ciftifile(eval(f'{contrast}_map'), pjoin(map_path, f'{contrast}_map_p-{p_threshold}.dtseries.nii'))\n",
    "    print('Finish %s'%(contrast))\n"
   ]
  },
  {
   "cell_type": "markdown",
   "metadata": {},
   "source": [
    "#### Show brain map of transitivity and sociality based on 2x2 factor design"
   ]
  },
  {
   "cell_type": "code",
   "execution_count": 11,
   "metadata": {},
   "outputs": [
    {
     "name": "stdout",
     "output_type": "stream",
     "text": [
      "sociality map threshold: left: -0.10; right: 0.15\n",
      "transitivity map threshold: left: -0.11; right: 0.11\n"
     ]
    }
   ],
   "source": [
    "# define contrast\n",
    "action_selected = pd.read_csv(pjoin(result_path, 'action_factor.csv'))\n",
    "n_check = action_selected.shape[0]\n",
    "map_path = pjoin(result_path, 'brain_map')\n",
    "dims = ['sociality', 'transitivity']\n",
    "class_names = beh_df['class']\n",
    "class_names.drop_duplicates(inplace=True)\n",
    "class_names.reset_index(inplace=True, drop=True)\n",
    "\n",
    "category_idx = np.zeros(action_selected.shape, dtype=int)\n",
    "for n_col in range(action_selected.shape[1]):\n",
    "    category_idx[:, n_col] = [class_names[class_names==action_selected.iloc[x, n_col]].index[0] for x in range(n_check)]\n",
    "\n",
    "for dim_idx, dim in enumerate(dims):\n",
    "    # extract category info\n",
    "    if dim == 'sociality':\n",
    "        high_category_idx = np.concatenate((category_idx[:, 0], category_idx[:, 2]), axis=0, dtype=int)\n",
    "        low_category_idx = np.concatenate((category_idx[:, 1], category_idx[:, 3]), axis=0, dtype=int)\n",
    "    else:\n",
    "        high_category_idx = np.concatenate((category_idx[:, 0], category_idx[:, 1]), axis=0, dtype=int)\n",
    "        low_category_idx = np.concatenate((category_idx[:, 2], category_idx[:, 3]), axis=0, dtype=int)        \n",
    "    # compute brain map\n",
    "    brain_map = np.zeros((1, 91282))\n",
    "    brain_map[0, :59412] = beta_sum[high_category_idx].mean(axis=0) - beta_sum[low_category_idx].mean(axis=0)\n",
    "    save_ciftifile(brain_map, pjoin(map_path, f'{dim}_map_factor.dtseries.nii'))\n",
    "    print('%s map threshold: left: %.2f; right: %.2f'%(dim, brain_map.squeeze()[:59412].mean() - brain_map.squeeze()[:59412].std(),\n",
    "                                                       brain_map.squeeze()[:59412].mean() + brain_map.squeeze()[:59412].std()))\n"
   ]
  },
  {
   "cell_type": "markdown",
   "metadata": {},
   "source": [
    "#### Count plot to show distribution of transitivity and sociality"
   ]
  },
  {
   "cell_type": "code",
   "execution_count": 32,
   "metadata": {},
   "outputs": [
    {
     "data": {
      "image/png": "[encoded data removed]",
      "text/plain": [
       "<Figure size 1080x864 with 1 Axes>"
      ]
     },
     "metadata": {
      "needs_background": "light"
     },
     "output_type": "display_data"
    }
   ],
   "source": [
    "import seaborn as sns\n",
    "\n",
    "plt.figure(figsize=(15, 12))\n",
    "\n",
    "ax = sns.histplot(data=beh_df, x=\"mean_score\", hue=\"dim\", bins=20)\n",
    "# for legend text\n",
    "# Add some text for labels, title and custom x-axis tick labels, etc.\n",
    "plt.xlabel('Rating Score', fontsize=25)\n",
    "plt.ylabel('Count', fontsize=25)\n",
    "\n",
    "# ax.legend(handles=ax.legend_.legendHandles, labels=[t.get_text() for t in ax.legend_.texts],\n",
    "#           title=ax.legend_.get_title().get_text(),\n",
    "#           loc='upper left', fontsize=15)\n",
    "plt.setp(ax.legend_.get_texts(), fontsize='20') # for legend text\n",
    "plt.setp(ax.legend_.get_title(), fontsize='20') # for legend title\n",
    "ax.legend_.set_bbox_to_anchor((0.17, 0.98)) # left → right, down → up\n",
    "\n",
    "ax.tick_params(labelsize=18, width=3, length=6, direction=\"out\", pad=6)\n",
    "# ax.set_xlim(-0.6, 2.5)\n",
    "# ax.set_ylim(0, 0.75)\n",
    "ax.spines['top'].set_visible(False)\n",
    "ax.spines['right'].set_visible(False)\n",
    "ax.spines['bottom'].set_linewidth(3)\n",
    "ax.spines['left'].set_linewidth(3)"
   ]
  },
  {
   "cell_type": "markdown",
   "metadata": {},
   "source": [
    "#### Generate brain map using contrast substraction"
   ]
  },
  {
   "cell_type": "code",
   "execution_count": null,
   "metadata": {},
   "outputs": [
    {
     "ename": "",
     "evalue": "",
     "output_type": "error",
     "traceback": [
      "\u001b[1;31mFailed to start the Kernel. \n",
      "\u001b[1;31mPermissionError: [Errno 13] Permission denied: '/nfs/z1/userhome/ZhouMing/.local/share/jupyter/runtime/kernel-v2-2545832EsKzw8Itw3u.json'. \n",
      "\u001b[1;31mView Jupyter <a href='command:jupyter.viewOutput'>log</a> for further details."
     ]
    }
   ],
   "source": [
    "dims = ['transitivity', 'sociality']\n",
    "brain_map = np.zeros((2, beta_sum.shape[1]))\n",
    "for dim_idx, dim in enumerate(dims):\n",
    "    # get label\n",
    "    dim_score = beh_df.loc[beh_df['dim']==dim, 'mean_score'].to_numpy()\n",
    "    dim_content = np.array([1 if item > 4 else 0 for item in dim_score])\n",
    "    # # compute brain map\n",
    "    brain_map = np.zeros((1, 91282))\n",
    "    brain_map[0, :59412] = beta_sum[dim_content==1].mean(axis=0) - beta_sum[dim_content==0].mean(axis=0)\n",
    "    save_ciftifile(brain_map, pjoin(result_path, f'{dim}_map.dtseries.nii'))\n",
    "    print('%s map threshold: left: %.2f; right: %.2f'%(dim, brain_map.squeeze()[:59412].mean() - brain_map.squeeze()[:59412].std(),\n",
    "                                                       brain_map.squeeze()[:59412].mean() + brain_map.squeeze()[:59412].std()))\n"
   ]
  },
  {
   "cell_type": "markdown",
   "metadata": {},
   "source": [
    "#### Generate brain map using correlation"
   ]
  },
  {
   "cell_type": "code",
   "execution_count": 6,
   "metadata": {},
   "outputs": [],
   "source": [
    "from scipy.stats import pearsonr\n",
    "import subprocess\n",
    "\n",
    "dims = ['transitivity', 'sociality']\n",
    "brain_map = np.zeros((2, beta_sum.shape[1]))\n",
    "p_value = 0.01\n",
    "smooth_kernel = 8\n",
    "\n",
    "for dim_idx, dim in enumerate(dims):\n",
    "    # get label\n",
    "    dim_score = beh_df.loc[beh_df['dim']==dim, 'mean_score'].to_numpy()\n",
    "    # # compute brain map\n",
    "    brain_map = np.zeros((1, 91282))\n",
    "    for voxel_idx in range(59412):\n",
    "        corr_info = pearsonr(beta_sum[:, voxel_idx], dim_score)\n",
    "        if corr_info[1] < p_value:\n",
    "            brain_map[0, voxel_idx] = corr_info[0]\n",
    "    # smooth the target map\n",
    "    out_file = pjoin(result_path, 'brain_map', f'{dim}_map_corr_smooth-p_{p_value}.dtseries.nii')\n",
    "    save_ciftifile(brain_map, out_file)\n",
    "    fsl_cmd = f'fslmaths {out_file} -s {smooth_kernel} -save'\n",
    "    subprocess.check_call(fsl_cmd, shell=True)\n"
   ]
  }
 ],
 "metadata": {
  "kernelspec": {
   "display_name": "Python 3.8.5 ('base')",
   "language": "python",
   "name": "python3"
  },
  "language_info": {
   "codemirror_mode": {
    "name": "ipython",
    "version": 3
   },
   "file_extension": ".py",
   "mimetype": "text/x-python",
   "name": "python",
   "nbconvert_exporter": "python",
   "pygments_lexer": "ipython3",
   "version": "3.8.5 (default, Sep  4 2020, 07:30:14) \n[GCC 7.3.0]"
  },
  "orig_nbformat": 4,
  "vscode": {
   "interpreter": {
    "hash": "ded51e6ae5fb79fea0b0420ae45d65595baa7e9f6ec8445524f1c7cb23aaaa4c"
   }
  }
 },
 "nbformat": 4,
 "nbformat_minor": 2
}
